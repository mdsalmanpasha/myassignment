{
 "cells": [
  {
   "cell_type": "code",
   "execution_count": null,
   "id": "d17bc442",
   "metadata": {},
   "outputs": [],
   "source": [
    "1. Write a Python Program to Find the Factorial of a Number?\n",
    "2. Write a Python Program to Display the multiplication Table?\n",
    "3. Write a Python Program to Print the Fibonacci sequence?\n",
    "4. Write a Python Program to Check Armstrong Number?\n",
    "5. Write a Python Program to Find Armstrong Number in an Interval?\n",
    "6. Write a Python Program to Find the Sum of Natural Numbers?"
   ]
  },
  {
   "cell_type": "code",
   "execution_count": 7,
   "id": "4b8ec202",
   "metadata": {},
   "outputs": [],
   "source": [
    "#1. Write a Python Program to Find the Factorial of a Number?\n",
    "def factorial(n):\n",
    "    if n<0:\n",
    "        print(\"enter a positive number\")\n",
    "        return\n",
    "    result = 1\n",
    "    while n >= 1:\n",
    "        result *= n\n",
    "        n -= 1\n",
    "    return result"
   ]
  },
  {
   "cell_type": "code",
   "execution_count": 10,
   "id": "ee02f51d",
   "metadata": {},
   "outputs": [],
   "source": [
    "#Factorial using recursion\n",
    "def recFactorial(n):\n",
    "    if type(n) != int or n < 0:\n",
    "        print(\"enter a positive integer!!! invalid input!!!\")\n",
    "        return\n",
    "    if n <= 1:\n",
    "        return 1\n",
    "    else:\n",
    "        return n * recFactorial(n - 1)"
   ]
  },
  {
   "cell_type": "code",
   "execution_count": 26,
   "id": "1f8fc754",
   "metadata": {},
   "outputs": [
    {
     "data": {
      "text/plain": [
       "6"
      ]
     },
     "execution_count": 26,
     "metadata": {},
     "output_type": "execute_result"
    }
   ],
   "source": [
    "recFactorial(3)"
   ]
  },
  {
   "cell_type": "code",
   "execution_count": 31,
   "id": "d468d583",
   "metadata": {},
   "outputs": [
    {
     "name": "stdout",
     "output_type": "stream",
     "text": [
      "7  *  1  =  7\n",
      "7  *  2  =  14\n",
      "7  *  3  =  21\n",
      "7  *  4  =  28\n",
      "7  *  5  =  35\n",
      "7  *  6  =  42\n",
      "7  *  7  =  49\n",
      "7  *  8  =  56\n",
      "7  *  9  =  63\n",
      "7  *  10  =  70\n"
     ]
    }
   ],
   "source": [
    "#2. Write a Python Program to Display the multiplication Table?\n",
    "def displayMultiplicationTable(a):\n",
    "    if type(a) != int or a <= 0:\n",
    "        print(\"enter a positive integer greater than 0!!!\\ninvalid input!!!\")\n",
    "        return\n",
    "    for i in range(10):\n",
    "        print(a,\" * \",i+1,\" = \", a*(i+1))\n",
    "\n",
    "displayMultiplicationTable(7)"
   ]
  },
  {
   "cell_type": "code",
   "execution_count": 33,
   "id": "c6f8726c",
   "metadata": {},
   "outputs": [
    {
     "name": "stdout",
     "output_type": "stream",
     "text": [
      "enter number of terms 10\n",
      "Fibonacci sequence is :\n",
      "0 1 1 2 3 5 8 13 21 34 "
     ]
    }
   ],
   "source": [
    "#3. Write a Python Program to Print the Fibonacci sequence?\n",
    "nterms = int(input(\"enter number of terms \"))\n",
    "n1,n2 = 0,1\n",
    "count = nterms\n",
    "if nterms <= 0:\n",
    "    print(\"enter a positive integer!!!\")\n",
    "elif nterms == 1:\n",
    "    print(\"Fibonacci sequence is : \\n\",n1)\n",
    "elif nterms == 2:\n",
    "    print(\"Fibonacci sequence is : \\n\",n1,' ',n2)\n",
    "else:#generate fibonacci\n",
    "    print(\"Fibonacci sequence is :\")\n",
    "    while count > 0:\n",
    "        print(n1,end=' ')\n",
    "        nth = n1 + n2\n",
    "        n1 = n2\n",
    "        n2 = nth\n",
    "        count -= 1\n",
    "        "
   ]
  },
  {
   "cell_type": "code",
   "execution_count": 60,
   "id": "c7359eec",
   "metadata": {},
   "outputs": [
    {
     "data": {
      "text/plain": [
       "True"
      ]
     },
     "execution_count": 60,
     "metadata": {},
     "output_type": "execute_result"
    }
   ],
   "source": [
    "#4. Write a Python Program to Check Armstrong Number?\n",
    "def checkArmstrong(n):\n",
    "     if type(n) != int or n < 0:\n",
    "        print(\"enter a positive integer!!! invalid input!!!\")\n",
    "        return\n",
    "     else:\n",
    "        givenNum = n\n",
    "        totalSum = 0\n",
    "        count = 0\n",
    "        while n > 0:\n",
    "            n //= 10\n",
    "            count += 1\n",
    "        n = givenNum\n",
    "        while n > 0:\n",
    "            digit = n % 10\n",
    "            totalSum += digit ** count\n",
    "            n //= 10\n",
    "        return totalSum == givenNum\n",
    "\n",
    "checkArmstrong(371)"
   ]
  },
  {
   "cell_type": "code",
   "execution_count": 57,
   "id": "b96e7b31",
   "metadata": {},
   "outputs": [
    {
     "name": "stdout",
     "output_type": "stream",
     "text": [
      "enter lower bound of interval1\n",
      "enter upper bound of interval10000\n",
      "1\n",
      "2\n",
      "3\n",
      "4\n",
      "5\n",
      "6\n",
      "7\n",
      "8\n",
      "9\n",
      "153\n",
      "370\n",
      "371\n",
      "407\n",
      "1634\n",
      "8208\n",
      "9474\n"
     ]
    }
   ],
   "source": [
    "#5. Write a Python Program to Find Armstrong Number in an Interval?\n",
    "a = int(input(\"enter lower bound of interval\"))\n",
    "b = int(input(\"enter upper bound of interval\"))\n",
    "for i in range(a,b):\n",
    "    if checkArmstrong(i):\n",
    "        print(i)"
   ]
  },
  {
   "cell_type": "code",
   "execution_count": 59,
   "id": "1cf786c1",
   "metadata": {},
   "outputs": [
    {
     "name": "stdout",
     "output_type": "stream",
     "text": [
      "enter range of natural numbers10\n"
     ]
    },
    {
     "data": {
      "text/plain": [
       "55.0"
      ]
     },
     "execution_count": 59,
     "metadata": {},
     "output_type": "execute_result"
    }
   ],
   "source": [
    "#6. Write a Python Program to Find the Sum of Natural Numbers?\n",
    "#sum of natural number = (n * (n + 1))/2\n",
    "n = int(input(\"enter range of natural numbers\"))\n",
    "sumation = (n * (n + 1))/2\n",
    "sumation"
   ]
  },
  {
   "cell_type": "code",
   "execution_count": null,
   "id": "766e41d4",
   "metadata": {},
   "outputs": [],
   "source": []
  }
 ],
 "metadata": {
  "kernelspec": {
   "display_name": "Python 3",
   "language": "python",
   "name": "python3"
  },
  "language_info": {
   "codemirror_mode": {
    "name": "ipython",
    "version": 3
   },
   "file_extension": ".py",
   "mimetype": "text/x-python",
   "name": "python",
   "nbconvert_exporter": "python",
   "pygments_lexer": "ipython3",
   "version": "3.8.8"
  }
 },
 "nbformat": 4,
 "nbformat_minor": 5
}
