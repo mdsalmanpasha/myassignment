{
 "cells": [
  {
   "cell_type": "markdown",
   "id": "d719ed6d",
   "metadata": {},
   "source": [
    "1.Write a Python Program to Find LCM?\n",
    "2.Write a Python Program to Find HCF?\n",
    "3.Write a Python Program to Convert Decimal to Binary, Octal and Hexadecimal?\n",
    "4.Write a Python Program To Find ASCII value of a character?\n",
    "5.Write a Python Program to Make a Simple Calculator with 4 basic mathematical operations?\n"
   ]
  },
  {
   "cell_type": "code",
   "execution_count": 32,
   "id": "07aee6c3",
   "metadata": {},
   "outputs": [],
   "source": [
    "def findLCM(*args):\n",
    "    '''This function take multiple inputs and returns the lcm of integers passed'''\n",
    "    try:\n",
    "        for i in args:\n",
    "            if type(i) != int:\n",
    "                raise ValueError(\"enter integers to get LCM\")\n",
    "        if len(args)<=1:\n",
    "            return args[0]\n",
    "        x = lcmOftwo(args[0],args[1])\n",
    "        for i in range(2,len(args)):\n",
    "            y = lcmOftwo(x,args[i])\n",
    "            x = y\n",
    "        else:\n",
    "            return x\n",
    "    except Exception as e:\n",
    "        print(e)\n",
    "def lcmOftwo(a,b):\n",
    "    try:\n",
    "        greater = max(a,b)\n",
    "        while True:\n",
    "            if (greater % a == 0 and greater %b ==0):\n",
    "                return greater\n",
    "            greater += 1\n",
    "    except Exception as e:\n",
    "        print(e)"
   ]
  },
  {
   "cell_type": "code",
   "execution_count": 34,
   "id": "ae1c7e6a",
   "metadata": {},
   "outputs": [
    {
     "data": {
      "text/plain": [
       "20"
      ]
     },
     "execution_count": 34,
     "metadata": {},
     "output_type": "execute_result"
    }
   ],
   "source": [
    "findLCM(5,4)"
   ]
  },
  {
   "cell_type": "code",
   "execution_count": 51,
   "id": "8b7c8989",
   "metadata": {},
   "outputs": [],
   "source": [
    "def HCF(*args):\n",
    "    ''' Function to Find HCF'''\n",
    "    try:\n",
    "        for i in args:\n",
    "            if i == 0 or type(i) != int:\n",
    "                raise ValueError(\"Invalid Input\")\n",
    "        if len(args)<=1:\n",
    "            return args[0]\n",
    "        x = ComputeHCFoftwo(args[0],args[1])\n",
    "        for i in range(2,len(args)):\n",
    "            y = ComputeHCFoftwo(x,args[i])\n",
    "            x = y\n",
    "        else:\n",
    "            return x\n",
    "    except Exception as e:\n",
    "        print(e)\n",
    "    \n",
    "def ComputeHCFoftwo(a,b):\n",
    "    try:\n",
    "        while b:\n",
    "            a,b = b,a%b\n",
    "        return a\n",
    "    except Exception as e:\n",
    "        print(e)"
   ]
  },
  {
   "cell_type": "code",
   "execution_count": 57,
   "id": "ee91740d",
   "metadata": {},
   "outputs": [
    {
     "data": {
      "text/plain": [
       "5"
      ]
     },
     "execution_count": 57,
     "metadata": {},
     "output_type": "execute_result"
    }
   ],
   "source": [
    "HCF(825,675,5)"
   ]
  },
  {
   "cell_type": "code",
   "execution_count": 75,
   "id": "91ada82e",
   "metadata": {},
   "outputs": [],
   "source": [
    "def ConvertNumberSystem(a):\n",
    "    '''Program to Convert Decimal to Binary, Octal and Hexadecimal'''\n",
    "    print(\"In binary\",bin(a))\n",
    "    print(\"In octal\",oct(a))\n",
    "    print(\"In Hexadecimal\",hex(a))"
   ]
  },
  {
   "cell_type": "code",
   "execution_count": 76,
   "id": "0b3e119f",
   "metadata": {},
   "outputs": [
    {
     "name": "stdout",
     "output_type": "stream",
     "text": [
      "In binary 0b1010\n",
      "In octal 0o12\n",
      "In Hexadecimal 0xa\n"
     ]
    }
   ],
   "source": [
    "ConvertNumberSystem(10)"
   ]
  },
  {
   "cell_type": "code",
   "execution_count": 77,
   "id": "8cb14b79",
   "metadata": {},
   "outputs": [],
   "source": [
    "def asci(a):\n",
    "    '''Program To Find ASCII value of a character'''\n",
    "    print(\"asci number of {0} is {1}\".format(a,ord(a)))"
   ]
  },
  {
   "cell_type": "code",
   "execution_count": 78,
   "id": "371cf376",
   "metadata": {},
   "outputs": [
    {
     "name": "stdout",
     "output_type": "stream",
     "text": [
      "asci number of A is 65\n"
     ]
    }
   ],
   "source": [
    "asci('A')"
   ]
  },
  {
   "cell_type": "code",
   "execution_count": 79,
   "id": "e194280a",
   "metadata": {},
   "outputs": [],
   "source": [
    "def calci():\n",
    "    ''' Program to Make a Simple Calculator with 4 basic mathematical operations'''\n",
    "    while True:\n",
    "        print(\"Enter 1 for addition\")\n",
    "        print(\"Enter 2 for substraction\")\n",
    "        print(\"Enter 3 for division\")\n",
    "        print(\"Enter 4 for multiplication\")\n",
    "        print(\"Enter any other number to quit\")\n",
    "        option = int(input(\"enter your choice\"))\n",
    "        if option == 1:\n",
    "            a = int(input(\"enter first number\"))\n",
    "            b = int(input(\"enter second number\"))\n",
    "            print(\"addition of {0} + {1} is {2}\".format(a,b,a+b))\n",
    "        elif option == 2:\n",
    "            a = int(input(\"enter first number\"))\n",
    "            b = int(input(\"enter second number\"))\n",
    "            print(\"subst of {0} - {1} is {2}\".format(a,b,a-b))\n",
    "        elif option == 3:\n",
    "            a = float(input(\"enter first number\"))\n",
    "            b = float(input(\"enter second number\"))\n",
    "            print(\"division of {0} / {1} is {2}\".format(a,b,a/b))\n",
    "        elif option == 4:\n",
    "            a = int(input(\"enter first number\"))\n",
    "            b = int(input(\"enter second number\"))\n",
    "            print(\"mul of {0} * {1} is {2}\".format(a,b,a*b))\n",
    "        else:\n",
    "            print(\"closing the calci\")\n",
    "            break"
   ]
  },
  {
   "cell_type": "code",
   "execution_count": 80,
   "id": "252ee208",
   "metadata": {},
   "outputs": [
    {
     "name": "stdout",
     "output_type": "stream",
     "text": [
      "Enter 1 for addition\n",
      "Enter 2 for substraction\n",
      "Enter 3 for division\n",
      "Enter 4 for multiplication\n",
      "Enter any other number to quit\n",
      "enter your choice1\n",
      "enter first number25\n",
      "enter second number25\n",
      "addition of 25 + 25 is 50\n",
      "Enter 1 for addition\n",
      "Enter 2 for substraction\n",
      "Enter 3 for division\n",
      "Enter 4 for multiplication\n",
      "Enter any other number to quit\n",
      "enter your choice3\n",
      "enter first number2\n",
      "enter second number5\n",
      "division of 2.0 / 5.0 is 0.4\n",
      "Enter 1 for addition\n",
      "Enter 2 for substraction\n",
      "Enter 3 for division\n",
      "Enter 4 for multiplication\n",
      "Enter any other number to quit\n",
      "enter your choice54\n",
      "closing the calci\n"
     ]
    }
   ],
   "source": [
    "calci()"
   ]
  },
  {
   "cell_type": "code",
   "execution_count": null,
   "id": "092c47bb",
   "metadata": {},
   "outputs": [],
   "source": []
  }
 ],
 "metadata": {
  "kernelspec": {
   "display_name": "Python 3",
   "language": "python",
   "name": "python3"
  },
  "language_info": {
   "codemirror_mode": {
    "name": "ipython",
    "version": 3
   },
   "file_extension": ".py",
   "mimetype": "text/x-python",
   "name": "python",
   "nbconvert_exporter": "python",
   "pygments_lexer": "ipython3",
   "version": "3.8.8"
  }
 },
 "nbformat": 4,
 "nbformat_minor": 5
}
