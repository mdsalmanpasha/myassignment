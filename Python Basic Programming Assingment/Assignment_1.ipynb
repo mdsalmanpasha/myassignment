{
 "cells": [
  {
   "cell_type": "raw",
   "id": "7f4703c4",
   "metadata": {},
   "source": [
    "1.Write a Python program to print \"Hello Python\"?\n",
    "2.Write a Python program to do arithmetical operations addition and division.?\n",
    "3.Write a Python program to find the area of a triangle?\n",
    "4.Write a Python program to swap two variables?\n",
    "5.Write a Python program to generate a random number?"
   ]
  },
  {
   "cell_type": "code",
   "execution_count": 4,
   "id": "6cfe3275",
   "metadata": {},
   "outputs": [
    {
     "name": "stdout",
     "output_type": "stream",
     "text": [
      "Hello Python\n"
     ]
    }
   ],
   "source": [
    "#1.Write a Python program to print \"Hello Python\"?\n",
    "print(\"Hello Python\")"
   ]
  },
  {
   "cell_type": "code",
   "execution_count": 5,
   "id": "84dda42c",
   "metadata": {},
   "outputs": [
    {
     "name": "stdout",
     "output_type": "stream",
     "text": [
      "enter first number 25\n",
      "enter second number 3\n",
      "Result of addition is 28\n",
      "Result of division is 8.333333333333334\n"
     ]
    }
   ],
   "source": [
    "#2.Write a Python program to do arithmetical operations addition and division.?\n",
    "a = int(input(\"enter first number \"))\n",
    "b = int(input(\"enter second number \"))\n",
    "print(\"Result of addition is \" + str(a + b))\n",
    "if(b == 0):\n",
    "    print(\"Division not possible by 0\")\n",
    "else:\n",
    "    print(\"Result of division is \"+ str(a/b))"
   ]
  },
  {
   "cell_type": "code",
   "execution_count": 7,
   "id": "bc5b6efe",
   "metadata": {},
   "outputs": [
    {
     "name": "stdout",
     "output_type": "stream",
     "text": [
      "enter base of the triangle 8\n",
      "enter height of the triangle 8\n",
      "area of triangle is : 32.0\n"
     ]
    }
   ],
   "source": [
    "#3.Write a Python program to find the area of a triangle?\n",
    "b = float(input(\"enter base of the triangle \"))\n",
    "h = float(input(\"enter height of the triangle \"))\n",
    "area_of_trainge = 0.5 * b * h\n",
    "print(\"area of triangle is : \" + str(area_of_trainge))"
   ]
  },
  {
   "cell_type": "code",
   "execution_count": 9,
   "id": "6bb741b0",
   "metadata": {},
   "outputs": [
    {
     "name": "stdout",
     "output_type": "stream",
     "text": [
      "Enter value for a 4\n",
      "Enter value for b 6\n",
      "value of a before swap :  4\n",
      "value of b before swap :  6\n",
      "value of a after swap :  6\n",
      "value of b after swap :  4\n"
     ]
    }
   ],
   "source": [
    "#4.Write a Python program to swap two variables?\n",
    "a = int(input(\"Enter value for a \"))\n",
    "b = int(input(\"Enter value for b \"))\n",
    "temp = 0\n",
    "print(\"value of a before swap : \",a)\n",
    "print(\"value of b before swap : \",b)\n",
    "temp = a\n",
    "a = b\n",
    "b = temp\n",
    "temp = 0\n",
    "print(\"value of a after swap : \",a)\n",
    "print(\"value of b after swap : \",b)"
   ]
  },
  {
   "cell_type": "code",
   "execution_count": 15,
   "id": "a324d192",
   "metadata": {},
   "outputs": [
    {
     "name": "stdout",
     "output_type": "stream",
     "text": [
      " random number is :  12\n"
     ]
    }
   ],
   "source": [
    "#5.Write a Python program to generate a random number?\n",
    "import random\n",
    "print(\" random number is : \",random.randint(1,50))"
   ]
  }
 ],
 "metadata": {
  "kernelspec": {
   "display_name": "Python 3",
   "language": "python",
   "name": "python3"
  },
  "language_info": {
   "codemirror_mode": {
    "name": "ipython",
    "version": 3
   },
   "file_extension": ".py",
   "mimetype": "text/x-python",
   "name": "python",
   "nbconvert_exporter": "python",
   "pygments_lexer": "ipython3",
   "version": "3.8.8"
  }
 },
 "nbformat": 4,
 "nbformat_minor": 5
}
