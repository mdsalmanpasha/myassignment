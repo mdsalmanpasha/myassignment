{
 "cells": [
  {
   "cell_type": "code",
   "execution_count": null,
   "id": "3ead7a43",
   "metadata": {},
   "outputs": [],
   "source": [
    "1. Write a Python Program to Display Fibonacci Sequence Using Recursion?\n",
    "2. Write a Python Program to Find Factorial of Number Using Recursion?\n",
    "3. Write a Python Program to calculate your Body Mass Index?\n",
    "4. Write a Python Program to calculate the natural logarithm of any number?\n",
    "5. Write a Python Program for cube sum of first n natural numbers?"
   ]
  },
  {
   "cell_type": "code",
   "execution_count": 22,
   "id": "a1adbd30",
   "metadata": {},
   "outputs": [],
   "source": [
    "#1. Write a Python Program to Display Fibonacci Sequence Using Recursion?\n",
    "\n",
    "def Fibonacci(n):\n",
    "    '''Fibonacci sequence using recursion takes integer as input and returns fibonacci sequence'''\n",
    "    try:\n",
    "        if type(n) != int or n<0:\n",
    "            raise Exception(n)\n",
    "        elif n <= 1 :\n",
    "            return n\n",
    "        else:\n",
    "            return Fibonacci(n - 1) + Fibonacci(n-2)\n",
    "        \n",
    "\n",
    "    except Exception as e:\n",
    "        print(\"Please enter valid input\\n You entered : \",e)\n",
    "def FibSeq(n):\n",
    "    for i in range(n):\n",
    "        print(Fibonacci(i),end=' ')"
   ]
  },
  {
   "cell_type": "code",
   "execution_count": 23,
   "id": "70ce524b",
   "metadata": {},
   "outputs": [
    {
     "name": "stdout",
     "output_type": "stream",
     "text": [
      "0 1 1 2 3 5 8 13 21 34 "
     ]
    }
   ],
   "source": [
    "FibSeq(10)"
   ]
  },
  {
   "cell_type": "code",
   "execution_count": 1,
   "id": "d9ca3992",
   "metadata": {},
   "outputs": [],
   "source": [
    "def factorial(n):\n",
    "    if n<=1:\n",
    "        return 1\n",
    "    else:\n",
    "        return n * factorial(n-1)"
   ]
  },
  {
   "cell_type": "code",
   "execution_count": 7,
   "id": "535f1b99",
   "metadata": {},
   "outputs": [
    {
     "data": {
      "text/plain": [
       "120"
      ]
     },
     "execution_count": 7,
     "metadata": {},
     "output_type": "execute_result"
    }
   ],
   "source": [
    "factorial(5)"
   ]
  },
  {
   "cell_type": "code",
   "execution_count": 8,
   "id": "2a9af6d1",
   "metadata": {},
   "outputs": [],
   "source": [
    "def CalculateBMI():\n",
    "    wt = float(input(\"enter weight in Kilograms: \"))\n",
    "    ht = float(input('enter Height in meters: '))\n",
    "    return wt/(ht ** 2)"
   ]
  },
  {
   "cell_type": "code",
   "execution_count": 9,
   "id": "020c0857",
   "metadata": {},
   "outputs": [
    {
     "name": "stdout",
     "output_type": "stream",
     "text": [
      "enter weight in Kilograms75\n",
      "enter Height in meters1.778\n"
     ]
    },
    {
     "data": {
      "text/plain": [
       "23.724537244992856"
      ]
     },
     "execution_count": 9,
     "metadata": {},
     "output_type": "execute_result"
    }
   ],
   "source": [
    "CalculateBMI()"
   ]
  },
  {
   "cell_type": "code",
   "execution_count": 15,
   "id": "756a4366",
   "metadata": {},
   "outputs": [],
   "source": [
    "def CalculateLog(n):\n",
    "    import math\n",
    "    return math.log(n)"
   ]
  },
  {
   "cell_type": "code",
   "execution_count": 16,
   "id": "c67a7035",
   "metadata": {},
   "outputs": [
    {
     "data": {
      "text/plain": [
       "2.302585092994046"
      ]
     },
     "execution_count": 16,
     "metadata": {},
     "output_type": "execute_result"
    }
   ],
   "source": [
    "CalculateLog(10)"
   ]
  },
  {
   "cell_type": "code",
   "execution_count": 13,
   "id": "79782ae5",
   "metadata": {},
   "outputs": [],
   "source": [
    "def CubeSum(n):\n",
    "    sum1 = (n * (n + 1)) / 2\n",
    "    return int(sum1**2)"
   ]
  },
  {
   "cell_type": "code",
   "execution_count": 14,
   "id": "3e3b3f0b",
   "metadata": {},
   "outputs": [
    {
     "data": {
      "text/plain": [
       "36"
      ]
     },
     "execution_count": 14,
     "metadata": {},
     "output_type": "execute_result"
    }
   ],
   "source": [
    "CubeSum(3)"
   ]
  },
  {
   "cell_type": "code",
   "execution_count": null,
   "id": "f6c70f45",
   "metadata": {},
   "outputs": [],
   "source": []
  }
 ],
 "metadata": {
  "kernelspec": {
   "display_name": "Python 3",
   "language": "python",
   "name": "python3"
  },
  "language_info": {
   "codemirror_mode": {
    "name": "ipython",
    "version": 3
   },
   "file_extension": ".py",
   "mimetype": "text/x-python",
   "name": "python",
   "nbconvert_exporter": "python",
   "pygments_lexer": "ipython3",
   "version": "3.8.8"
  }
 },
 "nbformat": 4,
 "nbformat_minor": 5
}
