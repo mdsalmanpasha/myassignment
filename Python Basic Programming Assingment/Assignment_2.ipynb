{
 "cells": [
  {
   "cell_type": "markdown",
   "id": "b98b55e3",
   "metadata": {},
   "source": [
    "1. Write a Python program to convert kilometers to miles?\n",
    "2. Write a Python program to convert Celsius to Fahrenheit?\n",
    "3. Write a Python program to display calendar?\n",
    "4. Write a Python program to solve quadratic equation?\n",
    "5. Write a Python program to swap two variables without temp variable?\n"
   ]
  },
  {
   "cell_type": "code",
   "execution_count": 1,
   "id": "010febbe",
   "metadata": {},
   "outputs": [
    {
     "name": "stdout",
     "output_type": "stream",
     "text": [
      "please enter distance in kilometers : 5\n",
      "distance in miles =  3.1068499999999997\n"
     ]
    }
   ],
   "source": [
    "#1. Write a Python program to convert kilometers to miles?\n",
    "# as we know 1 kilometer (km) = 0.62137 miles (mi)\n",
    "\n",
    "dist_kms = float(input(\"please enter distance in kilometers : \"))\n",
    "dist_miles = 0.62137 * dist_kms\n",
    "print(\"distance in miles = \",dist_miles)"
   ]
  },
  {
   "cell_type": "code",
   "execution_count": 3,
   "id": "86fd8169",
   "metadata": {},
   "outputs": [
    {
     "name": "stdout",
     "output_type": "stream",
     "text": [
      "please temperature in celcius : 33\n",
      "temperature in Fahrenheit = 91.4\n"
     ]
    }
   ],
   "source": [
    "#2. Write a Python program to convert Celsius to Fahrenheit?\n",
    "#To convert temperatures in degrees Celsius to Fahrenheit, multiply by 1.8 (or 9/5) and add 32.\n",
    "\n",
    "deg_celcius = float(input(\"please temperature in celcius : \"))\n",
    "print(\"temperature in Fahrenheit = {}\".format(1.8 * deg_celcius + 32))"
   ]
  },
  {
   "cell_type": "code",
   "execution_count": 5,
   "id": "d7db5aaf",
   "metadata": {},
   "outputs": [
    {
     "name": "stdout",
     "output_type": "stream",
     "text": [
      "enter year : 2000\n",
      "enter month : 5\n",
      "      May 2000\n",
      "Mo Tu We Th Fr Sa Su\n",
      " 1  2  3  4  5  6  7\n",
      " 8  9 10 11 12 13 14\n",
      "15 16 17 18 19 20 21\n",
      "22 23 24 25 26 27 28\n",
      "29 30 31\n",
      "\n"
     ]
    }
   ],
   "source": [
    "#3. Write a Python program to display calendar?\n",
    "\n",
    "import calendar\n",
    "\n",
    "yy = int(input(\"enter year : \"))\n",
    "mm = int(input(\"enter month : \"))\n",
    "\n",
    "print(calendar.month(yy,mm))"
   ]
  },
  {
   "cell_type": "code",
   "execution_count": 7,
   "id": "4ba123d8",
   "metadata": {},
   "outputs": [
    {
     "name": "stdout",
     "output_type": "stream",
     "text": [
      "Enter a,b,c values for ax2 + bx + c = 0 \n",
      "enter a value : 0\n",
      "a cannot be zero enter other value\n",
      "enter a value : 0\n",
      "a cannot be zero enter other value\n",
      "enter a value : 1\n",
      "enter b value : 2\n",
      "enter c value : 3\n",
      "The solution are (-1-1.4142135623730951j) and (-0.9999999999999999+1.4142135623730951j)\n"
     ]
    }
   ],
   "source": [
    "#4. Write a Python program to solve quadratic equation?\n",
    "'''ax2 + bx + c = 0, where\n",
    "a, b and c are real numbers and\n",
    "a ≠ 0'''\n",
    "# Solve the quadratic equation ax**2 + bx + c = 0\n",
    "print(\"Enter a,b,c values for ax2 + bx + c = 0 \")\n",
    "a = int(input(\"enter a value : \"))\n",
    "while(a == 0):\n",
    "    print(\"a cannot be zero enter other value\")\n",
    "    a = int(input(\"enter a value : \"))\n",
    "b = int(input(\"enter b value : \"))\n",
    "c = int(input(\"enter c value : \"))\n",
    "\n",
    "# calculate the discriminant\n",
    "d = (b**2) - (4*a*c)\n",
    "\n",
    "# find two solutions\n",
    "sol1 = (-b-(d**0.5))/(2*a)\n",
    "sol2 = (-b+(d**0.5))/(2*a)\n",
    "\n",
    "print('The solution are {0} and {1}'.format(sol1,sol2))"
   ]
  },
  {
   "cell_type": "code",
   "execution_count": 8,
   "id": "1bce5bdd",
   "metadata": {},
   "outputs": [
    {
     "name": "stdout",
     "output_type": "stream",
     "text": [
      "before swap a is 55,b is 666\n",
      "after swap a is 666,b is 55\n"
     ]
    }
   ],
   "source": [
    "#5. Write a Python program to swap two variables without temp variable?\n",
    "\n",
    "a = 55\n",
    "b = 666\n",
    "print(\"before swap a is {0},b is {1}\".format(a,b))\n",
    "a,b = b,a\n",
    "print(\"after swap a is {0},b is {1}\".format(a,b))"
   ]
  },
  {
   "cell_type": "code",
   "execution_count": null,
   "id": "fa0325fa",
   "metadata": {},
   "outputs": [],
   "source": []
  }
 ],
 "metadata": {
  "kernelspec": {
   "display_name": "Python 3",
   "language": "python",
   "name": "python3"
  },
  "language_info": {
   "codemirror_mode": {
    "name": "ipython",
    "version": 3
   },
   "file_extension": ".py",
   "mimetype": "text/x-python",
   "name": "python",
   "nbconvert_exporter": "python",
   "pygments_lexer": "ipython3",
   "version": "3.8.8"
  }
 },
 "nbformat": 4,
 "nbformat_minor": 5
}
