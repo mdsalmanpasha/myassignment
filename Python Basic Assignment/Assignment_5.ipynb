{
 "cells": [
  {
   "cell_type": "markdown",
   "id": "708c1428",
   "metadata": {},
   "source": [
    "1. What does an empty dictionary's code look like?\n",
    "\n",
    " **Answer:** {}\n",
    " \n",
    "2. What is the value of a dictionary value with the key 'foo' and the value 42?\n",
    "\n",
    " **Answer:** 42\n",
    " \n",
    "3. What is the most significant distinction between a dictionary and a list?\n",
    "\n",
    " **Answer:** dictionary is a key value pair enclosed between {}\n",
    "             list is collection of items enclosed between []\n",
    "             \n",
    "4. What happens if you try to access spam['foo'] if spam is {'bar': 100}?\n",
    "\n",
    " **Answer:** it throws a key error\n",
    " \n",
    "5. If a dictionary is stored in spam, what is the difference between the expressions 'cat' in spam and 'cat' in spam.keys()?\n",
    "\n",
    " **Answer:** both gives same output as 'cat' in spam checks for keys and spam.keys() also give keys\n",
    " \n",
    "6. If a dictionary is stored in spam, what is the difference between the expressions 'cat' in spam and 'cat' in spam.values()?\n",
    "\n",
    " **Answer:** 'cat' in spam check if 'cat' is present in keys of spam\n",
    "             'cat' in spam.values() checks if 'cat' is present in values of spam\n",
    "             \n",
    "7. What is a shortcut for the following code?\n",
    "if 'color' not in spam:\n",
    "spam['color'] = 'black'\n",
    "\n",
    " **Answer:** spam['color'] =  'black'\n",
    " \n",
    "8. How do you \"pretty print\" dictionary values using which module and function?\n",
    "\n",
    " **Answer:** by using pprint module\n",
    "             import pprint\n",
    "             pprint.pprint(dict) will \"pretty print\" the dictionary"
   ]
  }
 ],
 "metadata": {
  "kernelspec": {
   "display_name": "Python 3",
   "language": "python",
   "name": "python3"
  },
  "language_info": {
   "codemirror_mode": {
    "name": "ipython",
    "version": 3
   },
   "file_extension": ".py",
   "mimetype": "text/x-python",
   "name": "python",
   "nbconvert_exporter": "python",
   "pygments_lexer": "ipython3",
   "version": "3.8.8"
  }
 },
 "nbformat": 4,
 "nbformat_minor": 5
}
