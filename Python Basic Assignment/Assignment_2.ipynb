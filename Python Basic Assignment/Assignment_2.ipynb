{
 "cells": [
  {
   "cell_type": "raw",
   "id": "b64c8acf",
   "metadata": {},
   "source": [
    "1.What are the two values of the Boolean data type? How do you write them?\n",
    "\n",
    "Answer:\n",
    "    The two values of boolean data type are True i.e 1 and False i.e 0\n",
    "    \n",
    "    True,False"
   ]
  },
  {
   "cell_type": "raw",
   "id": "56c18e66",
   "metadata": {},
   "source": [
    "2. What are the three different types of Boolean operators?\n",
    "\n",
    "Answer:\n",
    "    AND , OR, and NOT"
   ]
  },
  {
   "cell_type": "raw",
   "id": "05ed355d",
   "metadata": {},
   "source": [
    "3. Make a list of each Boolean operator's truth tables (i.e. every possible combination of Boolean values for the operator and what it evaluate ).\n",
    "\n",
    "Answer:\n",
    "    AND truth table\n",
    "    a b (a and b)\n",
    "    0 0     0\n",
    "    0 1     0\n",
    "    1 0     0\n",
    "    1 1     1\n",
    "    \n",
    "    OR truth table\n",
    "    a b (a or b)\n",
    "    0 0    0\n",
    "    0 1    1\n",
    "    1 0    1\n",
    "    1 1    1\n",
    "    \n",
    "    Not truth table\n",
    "    a (not a)\n",
    "    0    1\n",
    "    1    0\n",
    "    \n",
    "    Where 0 represents False and 1 represents True"
   ]
  },
  {
   "cell_type": "raw",
   "id": "64324491",
   "metadata": {},
   "source": [
    "4. What are the values of the following expressions?\n",
    "(5 > 4) and (3 == 5)\n",
    "not (5 > 4)\n",
    "(5 > 4) or (3 == 5)\n",
    "not ((5 > 4) or (3 == 5))\n",
    "(True and True) and (True == False)\n",
    "(not False) or (not True)\n",
    "\n",
    "Answer:\n",
    "    (5 > 4) and (3 == 5)                 ---> False\n",
    "    not (5 > 4)                          ---> False\n",
    "    (5 > 4) or (3 == 5)                  ---> True\n",
    "    not ((5 > 4) or (3 == 5))            ---> False\n",
    "    (True and True) and (True == False)  ---> False\n",
    "    (not False) or (not True)            ---> True"
   ]
  },
  {
   "cell_type": "raw",
   "id": "2318d6c2",
   "metadata": {},
   "source": [
    "5. What are the six comparison operators?\n",
    "\n",
    "Answer:\n",
    "    \n",
    "    1 <\n",
    "    2 >\n",
    "    3 ==\n",
    "    4 <=\n",
    "    5 >=\n",
    "    6 !="
   ]
  },
  {
   "cell_type": "raw",
   "id": "bb845c4a",
   "metadata": {},
   "source": [
    "6. How do you tell the difference between the equal to and assignment operators?Describe a condition and when you would use one.\n",
    "\n",
    "Answer:\n",
    "    equal to operator is used to compare two values if they are same ( == )\n",
    "    assignment operator is used to assign a value to a variable (=)\n",
    "    \n",
    "    example:\n",
    "        a = 10 assigns a value of 10 to a variable 'a'.\n",
    "        a == 10 compares the value of 'a' to integer 10 and returns true if it is equal to 10 or else returns false."
   ]
  },
  {
   "cell_type": "raw",
   "id": "91fbbb88",
   "metadata": {},
   "source": [
    "7. Identify the three blocks in this code:\n",
    "spam = 0\n",
    "if spam == 10:\n",
    "print('eggs')\n",
    "if spam > 5:\n",
    "print('bacon')\n",
    "else:\n",
    "print('ham')\n",
    "print('spam')\n",
    "print('spam')\n",
    "\n",
    "Answer: \n",
    "    block 1: if spam == 10:\n",
    "                print('eggs')\n",
    "    \n",
    "    block 2: if spam > 5:\n",
    "                print('bacon')\n",
    "             else:\n",
    "                print('ham')\n",
    "                \n",
    "    block 3: print('spam')\n",
    "             print('spam')            "
   ]
  },
  {
   "cell_type": "raw",
   "id": "beeb40f2",
   "metadata": {},
   "source": [
    "8. Write code that prints Hello if 1 is stored in spam, prints Howdy if 2 is stored in spam, and prints Greetings! if anything else is stored in spam."
   ]
  },
  {
   "cell_type": "code",
   "execution_count": 11,
   "id": "37cf85d1",
   "metadata": {},
   "outputs": [
    {
     "name": "stdout",
     "output_type": "stream",
     "text": [
      "Enter any number 3\n",
      "Greetings!\n"
     ]
    }
   ],
   "source": [
    "'''8. Write code that prints Hello if 1 is stored in spam, prints Howdy if 2 is stored in spam, \n",
    "      and prints Greetings! if anything else is stored in spam.'''\n",
    "spam = int(input(\"Enter any number \"))\n",
    "if(spam == 1):\n",
    "    print(\"Hello\")\n",
    "elif(spam == 2):\n",
    "    print(\"Howdy\")\n",
    "else:\n",
    "    print(\"Greetings!\")"
   ]
  },
  {
   "cell_type": "raw",
   "id": "bdd62842",
   "metadata": {},
   "source": [
    "9.If your programme is stuck in an endless loop, what keys you’ll press?\n",
    "\n",
    "Answer:\n",
    "    we can press ctrl + c in cmd prompt to break the infinite loop"
   ]
  },
  {
   "cell_type": "raw",
   "id": "0a02a96a",
   "metadata": {},
   "source": [
    "10. How can you tell the difference between break and continue?\n",
    "\n",
    "Answer:\n",
    "    Break Halts the loop execution it takes the control out of the loop.\n",
    "    \n",
    "    Continue skips the execution and returns the control to loop for next iteraton."
   ]
  },
  {
   "cell_type": "raw",
   "id": "5f7577ae",
   "metadata": {},
   "source": [
    "11. In a for loop, what is the difference between range(10), range(0, 10), and range(0, 10, 1)?\n",
    "\n",
    "Answer:\n",
    "    All are same i.e range(10), range(0, 10), and range(0, 10, 1) gives same output i.e from 0 to 9\n",
    "    0,1,2,3,4,5,6,7,8,9"
   ]
  },
  {
   "cell_type": "raw",
   "id": "e16a864c",
   "metadata": {},
   "source": [
    "12. Write a short program that prints the numbers 1 to 10 using a for loop. Then write an equivalent program that prints the numbers 1 to 10 using a while loop."
   ]
  },
  {
   "cell_type": "code",
   "execution_count": 12,
   "id": "0434b463",
   "metadata": {},
   "outputs": [
    {
     "name": "stdout",
     "output_type": "stream",
     "text": [
      "1 2 3 4 5 6 7 8 9 10 \n",
      "Now using While loop\n",
      "1 2 3 4 5 6 7 8 9 10 "
     ]
    }
   ],
   "source": [
    "'''12. Write a short program that prints the numbers 1 to 10 using a for loop. \n",
    "       Then write an equivalent program that prints the numbers 1 to 10 using a while loop.'''\n",
    "for i in range(1,11):\n",
    "    print(i,end=\" \")\n",
    "print()\n",
    "print(\"Now using While loop\")\n",
    "j = 0\n",
    "while j<10:\n",
    "    j += 1\n",
    "    print(j,end=' ')"
   ]
  },
  {
   "cell_type": "raw",
   "id": "c57ca86a",
   "metadata": {},
   "source": [
    "13. If you had a function named bacon() inside a module named spam, how would you call it after importing spam?\n",
    "\n",
    "Answer: import spam as sp\n",
    "        sp.bacon()"
   ]
  }
 ],
 "metadata": {
  "kernelspec": {
   "display_name": "Python 3",
   "language": "python",
   "name": "python3"
  },
  "language_info": {
   "codemirror_mode": {
    "name": "ipython",
    "version": 3
   },
   "file_extension": ".py",
   "mimetype": "text/x-python",
   "name": "python",
   "nbconvert_exporter": "python",
   "pygments_lexer": "ipython3",
   "version": "3.8.8"
  }
 },
 "nbformat": 4,
 "nbformat_minor": 5
}
