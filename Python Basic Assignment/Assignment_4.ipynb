{
 "cells": [
  {
   "cell_type": "markdown",
   "id": "5707fa95",
   "metadata": {},
   "source": [
    "1. What exactly is []?\n",
    "\n",
    " **Answer:** it is a notion used to make a list\n",
    "        i.e l = [] creats an empty list"
   ]
  },
  {
   "cell_type": "markdown",
   "id": "a8c7f032",
   "metadata": {},
   "source": [
    "2. In a list of values stored in a variable called spam, how would you assign the value 'hello' as the third value? (Assume [2, 4, 6, 8, 10] are in spam.)\n",
    "\n",
    " **Answer:** spam[2] = 'hello'"
   ]
  },
  {
   "cell_type": "markdown",
   "id": "8d7383fb",
   "metadata": {},
   "source": [
    "Let's pretend the spam includes the list ['a', 'b', 'c', 'd'] for the next three queries."
   ]
  },
  {
   "cell_type": "markdown",
   "id": "d19b9183",
   "metadata": {},
   "source": [
    "3. What is the value of spam[int(int('3' * 2) / 11)]?\n",
    "\n",
    " **Answer:** '3'*2 gives '33'\n",
    "            typecasting '33' to int gives 33\n",
    "            33/11 gives 3.0 and typecasting to int gives 3\n",
    "            spam[3] gives 'd' as output"
   ]
  },
  {
   "cell_type": "markdown",
   "id": "5a65cf1d",
   "metadata": {},
   "source": [
    "4. What is the value of spam[-1]?\n",
    "\n",
    " **Answer:** -1 index gives last value\n",
    "             last value in spam is 'd'\n",
    "             output is 'd'"
   ]
  },
  {
   "cell_type": "markdown",
   "id": "1dc81596",
   "metadata": {},
   "source": [
    "5. What is the value of spam[:2]?\n",
    "\n",
    " **Answer:** it gives items at 0 and 1\n",
    "            so output will be\n",
    "            ['a','b']"
   ]
  },
  {
   "cell_type": "markdown",
   "id": "df8d5b06",
   "metadata": {},
   "source": [
    "Let's pretend bacon has the list [3.14, 'cat,' 11, 'cat,' True] for the next three questions."
   ]
  },
  {
   "cell_type": "markdown",
   "id": "12c983e6",
   "metadata": {},
   "source": [
    "6. What is the value of bacon.index('cat')?\n",
    "\n",
    " **Answer:** it returns value 1"
   ]
  },
  {
   "cell_type": "markdown",
   "id": "7876e440",
   "metadata": {},
   "source": [
    "7. How does bacon.append(99) change the look of the list value in bacon?\n",
    "\n",
    " **Answer:** now bacon will have following list\n",
    "             [3.14,'cat',11,'cat',True,99]"
   ]
  },
  {
   "cell_type": "markdown",
   "id": "cf34d968",
   "metadata": {},
   "source": [
    "8. How does bacon.remove('cat') change the look of the list in bacon?\n",
    "\n",
    " **Answer:** it is going to remove 'cat' from the first occurance.\n",
    "             so the updated list will be\n",
    "             [3.14,11,'cat',True,99]"
   ]
  },
  {
   "cell_type": "markdown",
   "id": "6654e420",
   "metadata": {},
   "source": [
    "9. What are the list concatenation and list replication operators?\n",
    "\n",
    " **Answer:** **+** is the list concatenation operator\n",
    "            * is the list replication operator\n",
    "            \n",
    "10. What is difference between the list methods append() and insert()?\n",
    "\n",
    " **Answer:** append() add the given item at last index of list\n",
    "             insert() add the given item at provided index of list\n",
    "             \n",
    "11. What are the two methods for removing items from a list?\n",
    "\n",
    " **Answer:** there are three methods to remove item from list they are **remove(), pop(), clear()**\n",
    " \n",
    "12. Describe how list values and string values are identical.\n",
    "\n",
    " **Answer:** Lists are similar to strings, which are ordered collections of characters\n",
    "             we can access single characters using indexing similar to list\n",
    "             main difference is strings are immutable and can contain only characters where as\n",
    "             lists are mutabel and can hold differnt types of data\n",
    "             \n",
    "13. What's the difference between tuples and lists?\n",
    "\n",
    " **Answer:** tuples and lists are mostly similar \n",
    "             they differ in notion tuples use () where lists use []\n",
    "             tuple are immutable and lists are mutable\n",
    "             \n",
    "14. How do you type a tuple value that only contains the integer 42?\n",
    "\n",
    " **Answer:** t = (42,)\n",
    " \n",
    "15. How do you get a list value's tuple form? How do you get a tuple value's list form?\n",
    "\n",
    " **Answer:** tuple([1,2,34,5] will give list values in tuple form\n",
    "             list((1,2,4,5)) will give tuple value's in list form\n",
    " \n",
    "16. Variables that \"contain\" list values are not necessarily lists themselves. Instead, what do they contain?\n",
    "\n",
    " **Answer:** Reference of that list or else we can say pointer to the list \n",
    " \n",
    "17. How do you distinguish between copy.copy() and copy.deepcopy()?\n",
    " \n",
    " **Answer:**  A shallow copy constructs a new compound object and then (to the extent possible) \n",
    "             inserts references into it to the objects found in the original.\n",
    "\n",
    "            A deep copy constructs a new compound object and then, recursively, \n",
    "            inserts copies into it of the objects found in the original."
   ]
  }
 ],
 "metadata": {
  "kernelspec": {
   "display_name": "Python 3",
   "language": "python",
   "name": "python3"
  },
  "language_info": {
   "codemirror_mode": {
    "name": "ipython",
    "version": 3
   },
   "file_extension": ".py",
   "mimetype": "text/x-python",
   "name": "python",
   "nbconvert_exporter": "python",
   "pygments_lexer": "ipython3",
   "version": "3.8.8"
  }
 },
 "nbformat": 4,
 "nbformat_minor": 5
}
