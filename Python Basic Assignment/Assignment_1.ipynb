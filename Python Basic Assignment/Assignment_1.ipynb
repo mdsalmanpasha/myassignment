{
 "cells": [
  {
   "cell_type": "raw",
   "id": "27aaa4ee",
   "metadata": {},
   "source": [
    "1. In the below elements which of them are values or an expression? eg:- values can be integer or string and expressions will be mathematical operators.\n",
    "\n",
    "* \n",
    "'hello'\n",
    "-87.8\n",
    "- \n",
    "/ \n",
    "+\n",
    "6 \n",
    "\n",
    "Answer:\n",
    "    * - it is an \"expression\" of multiplication\n",
    "    'hello' - it is a \"value\" of type string\n",
    "    -87.8 -  it is a \"value\" of type float\n",
    "    - - it is an \"expression\" of substraction\n",
    "    / - it is an \"expression\" of division\n",
    "    + - it is an \"expression\" of addition\n",
    "    6 - it is a \"value\" of type integer"
   ]
  },
  {
   "cell_type": "raw",
   "id": "829e77af",
   "metadata": {},
   "source": [
    "2. What is the difference between string and variable?\n",
    "\n",
    "Answer:\n",
    "\n",
    "    Variable is a container which can hold the value and we can also change the value of variable.\n",
    "    A variable can store everything from strings to numbers.\n",
    "    \n",
    "    string itself is a Value which is immutable.\n",
    "    A string is the values inside the quotes assigned to a string variable.\n"
   ]
  },
  {
   "cell_type": "raw",
   "id": "38d1ade5",
   "metadata": {},
   "source": [
    "3. Describe three different data types.\n",
    "\n",
    "Answer:\n",
    "    integers,\n",
    "    strings,\n",
    "    floats"
   ]
  },
  {
   "cell_type": "raw",
   "id": "0cf79912",
   "metadata": {},
   "source": [
    "4. What is an expression made up of? What do all expressions do?\n",
    "\n",
    "Answer:\n",
    "    An expression is a construct made up of variables, operators like a * b is multiplication expression\n",
    "    a/b is a division expression.\n",
    "    expression evaluates to a single value"
   ]
  },
  {
   "cell_type": "raw",
   "id": "3e72e5e6",
   "metadata": {},
   "source": [
    "5. This assignment statements, like spam = 10. What is the difference between an expression and a statement?\n",
    "\n",
    "Answer:\n",
    "    In assignemnt statement we are assigning a value of 10 to a variable spam.\n",
    "    \n",
    "    An “expression” is a combination of values and functions that are combined and interpreted by the compiler to create a new value.\n",
    "    Where as a “statement” is just a standalone unit of execution and doesn't return anything."
   ]
  },
  {
   "cell_type": "raw",
   "id": "dae38091",
   "metadata": {},
   "source": [
    "6. After running the following code, what does the variable bacon contain?\n",
    "bacon = 22\n",
    "bacon + 1\n",
    "\n",
    "Answer:\n",
    "    bacon will contain 22 as we are not assigning any other value."
   ]
  },
  {
   "cell_type": "raw",
   "id": "70e58563",
   "metadata": {},
   "source": [
    "7. What should the values of the following two terms be?\n",
    "'spam' + 'spamspam'\n",
    "'spam' * 3\n",
    "\n",
    "Answer:\n",
    "    both gives same value as below\n",
    "    'spamspamspam'\n",
    "    'spamspamspam'"
   ]
  },
  {
   "cell_type": "raw",
   "id": "cc7e9cdf",
   "metadata": {},
   "source": [
    "8. Why is eggs a valid variable name while 100 is invalid?\n",
    "\n",
    "Answer:\n",
    "    Variable names cannot begin with a number."
   ]
  },
  {
   "cell_type": "raw",
   "id": "504eb22a",
   "metadata": {},
   "source": [
    "9. What three functions can be used to get the integer, floating-point number, or string version of a value?\n",
    "\n",
    "Answer:\n",
    "    The int() , float() , and str( ) functions will evaluate to the integer, \n",
    "    floating-point number, and string versions of the value passed to them."
   ]
  },
  {
   "cell_type": "raw",
   "id": "d3e39555",
   "metadata": {},
   "source": [
    "10. Why does this expression cause an error? How can you fix it?\n",
    "'I have eaten ' + 99 + ' burritos.'\n",
    "\n",
    "Answer:\n",
    "    \n",
    "    the above expression gives an error because of 99 which is of type integer.\n",
    "    we can fix this error by converting 99 to string.\n",
    "    \n",
    "    'I have eaten ' + '99' + ' burritos.'\n",
    "        or\n",
    "    'I have eaten ' + str(99) + ' burritos.'  \n",
    "    \n",
    "    The above expressions solves the error"
   ]
  }
 ],
 "metadata": {
  "kernelspec": {
   "display_name": "Python 3",
   "language": "python",
   "name": "python3"
  },
  "language_info": {
   "codemirror_mode": {
    "name": "ipython",
    "version": 3
   },
   "file_extension": ".py",
   "mimetype": "text/x-python",
   "name": "python",
   "nbconvert_exporter": "python",
   "pygments_lexer": "ipython3",
   "version": "3.8.8"
  }
 },
 "nbformat": 4,
 "nbformat_minor": 5
}
